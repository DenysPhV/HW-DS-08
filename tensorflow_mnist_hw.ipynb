{
 "cells": [
  {
   "cell_type": "markdown",
   "metadata": {
    "id": "b0Yf4NBJUSNM"
   },
   "source": [
    "# Создание нейронной сети\n",
    "\n",
    "В этом задании мы создадим полносвязную нейронную сеть используя при этом низкоуровневые механизмы tensorflow.\n",
    "\n",
    "Архитектутра нейросети представлена на следующем рисунке. Как видите, в ней имеется один входной слой, два скрытых, а так же выходной слой. В качестве активационной функции в скрытых слоях будет использоваться сигмоида. На выходном слое мы используем softmax.\n",
    "\n",
    "Часть кода по созданию сети уже написана, от вас требуется заполнить пропуски в указанных местах."
   ]
  },
  {
   "cell_type": "markdown",
   "metadata": {
    "id": "01rZWUu0USNQ"
   },
   "source": [
    "## Архитектура нейронной сети\n",
    "\n",
    "<img src=\"http://cs231n.github.io/assets/nn1/neural_net2.jpeg\" alt=\"nn\" style=\"width: 400px;\"/>\n"
   ]
  },
  {
   "cell_type": "markdown",
   "metadata": {
    "id": "LLvIZ705Qw_V"
   },
   "source": [
    "## О датасете MNIST\n",
    "\n",
    "Данную нейросеть мы будем обучать на датасете MNIST. Этот датасет представляет собой большое количество изображений рукописных цифр размером $28 \\times 28$ пикселей. Каждый пиксель принимает значение от 0 до 255.\n",
    "\n",
    "Как и раньше датасет будет разеделен на обучающую и тестовую выборки. При этом мы выполним нормализацию всех изображений, чтобы значения пикселей находились в промежутке от 0 до 1, разделив яркость каждого пикселя на 255.\n",
    "\n",
    "Кроме того, архитектура нейронной сети ожидает на вход вектор. В нашем же случае каждый объект выборки представляет собой матрицу. Что же делать? В этом задании мы \"растянем\" матрицу $28 \\times 28$, получив при этом вектор, состоящей из 784 элементов.\n",
    "\n",
    "![MNIST Dataset](https://www.researchgate.net/profile/Steven-Young-5/publication/306056875/figure/fig1/AS:393921575309346@1470929630835/Example-images-from-the-MNIST-dataset.png)\n",
    "\n",
    "Больше информации о датасете можно найти [здесь](http://yann.lecun.com/exdb/mnist/)."
   ]
  },
  {
   "cell_type": "code",
   "execution_count": 3,
   "metadata": {
    "executionInfo": {
     "elapsed": 11344,
     "status": "ok",
     "timestamp": 1699447437285,
     "user": {
      "displayName": "Denis Philichkin",
      "userId": "00184781210873678328"
     },
     "user_tz": -120
    },
    "id": "il_0_5OyUSNR"
   },
   "outputs": [],
   "source": [
    "import tensorflow as tf\n",
    "import numpy as np\n",
    "import matplotlib.pyplot as plt"
   ]
  },
  {
   "cell_type": "code",
   "execution_count": 4,
   "metadata": {
    "executionInfo": {
     "elapsed": 305,
     "status": "ok",
     "timestamp": 1699447440494,
     "user": {
      "displayName": "Denis Philichkin",
      "userId": "00184781210873678328"
     },
     "user_tz": -120
    },
    "id": "cd-1_abTUSNS"
   },
   "outputs": [],
   "source": [
    "num_classes = 10 # общее количество классов, в нашем случае это цифры от 0 до 9\n",
    "num_features = 784 # количество атрибутов входного вектора 28 * 28 = 784\n",
    "\n",
    "learning_rate = 0.001 # скорость обучения нейронной сети\n",
    "training_steps = 3000 # максимальное число эпох\n",
    "batch_size = 256 # пересчитывать веса сети мы будем не на всей выборке, а на ее случайном подможестве из batch_size элементов\n",
    "display_step = 100 # каждые 100 итераций мы будем показывать текущее значение функции потерь и точности\n",
    "\n",
    "n_hidden_1 = 128 # количество нейронов 1-го слоя\n",
    "n_hidden_2 = 256 # количество нейронов 2-го слоя"
   ]
  },
  {
   "cell_type": "code",
   "execution_count": 5,
   "metadata": {
    "executionInfo": {
     "elapsed": 1737,
     "status": "ok",
     "timestamp": 1699447444148,
     "user": {
      "displayName": "Denis Philichkin",
      "userId": "00184781210873678328"
     },
     "user_tz": -120
    },
    "id": "pGTXiRyTUSNT"
   },
   "outputs": [],
   "source": [
    "from tensorflow.keras.datasets import mnist\n",
    "\n",
    "# Загружаем датасет\n",
    "(x_train, y_train), (x_test, y_test) = mnist.load_data()\n",
    "\n",
    "# Преобразуем целочисленные пиксели к типа float32\n",
    "x_train, x_test = np.array(x_train, np.float32), np.array(x_test, np.float32)\n",
    "\n",
    "# Преобразуем матрицы размером 28x28 пикселей в вектор из 784 элементов\n",
    "x_train, x_test = x_train.reshape([-1, num_features]), x_test.reshape([-1, num_features])\n",
    "\n",
    "# Нормализуем значения пикселей\n",
    "x_train, x_test = x_train / 255., x_test / 255.\n",
    "\n",
    "# Перемешаем тренировочные данные\n",
    "train_data = tf.data.Dataset.from_tensor_slices((x_train, y_train))\n",
    "train_data = train_data.repeat().shuffle(5000).batch(batch_size).prefetch(1)"
   ]
  },
  {
   "cell_type": "code",
   "execution_count": 35,
   "metadata": {
    "executionInfo": {
     "elapsed": 220,
     "status": "ok",
     "timestamp": 1699451580122,
     "user": {
      "displayName": "Denis Philichkin",
      "userId": "00184781210873678328"
     },
     "user_tz": -120
    },
    "id": "FkRmCQjnUSNV"
   },
   "outputs": [],
   "source": [
    "# Создадим нейронную сеть\n",
    "\n",
    "class DenseLayer(tf.Module):\n",
    "    def __init__(self, in_features, out_features, name=None):\n",
    "        super().__init__(name=name)\n",
    "\n",
    "        self.w = tf.Variable(tf.random.normal([in_features, out_features]), name=\"w\")\n",
    "        self.b = tf.Variable(tf.zeros([out_features]), name=\"b\")\n",
    "\n",
    "    def __call__(self, x, activation=0):\n",
    "        y = tf.matmul(x, self.w) + self.b\n",
    "\n",
    "        if activation != 0:\n",
    "            return tf.nn.softmax(y)\n",
    "        return tf.nn.sigmoid(y)\n",
    "\n",
    "class NN(tf.Module):\n",
    "  def __init__(self, name=None):\n",
    "    super().__init__(name=name)\n",
    "    # Первый слой, состоящий из 128 нейронов\n",
    "    self.layer_1 = DenseLayer(in_features=num_features, out_features=n_hidden_1)\n",
    "\n",
    "    # Второй слой, состоящий из 256 нейронов\n",
    "    self.layer_2 = DenseLayer(in_features=n_hidden_1, out_features=n_hidden_2)\n",
    "\n",
    "    # Выходной слой\n",
    "    self.layer_3 = DenseLayer(in_features=n_hidden_2, out_features=num_classes)\n",
    "\n",
    "  def __call__(self, x):\n",
    "    x1 = self.layer_1(x, activation=0)\n",
    "    x2 = self.layer_2(x1, activation=0)\n",
    "    x3 = self.layer_3(x2, activation=0)\n",
    "    return x3\n",
    "\n",
    "    # Помните что для выхода нейронной сети мы применяем к выходу функцию softmax.\n",
    "    # Делаем мы это для того, чтобы\n",
    "    # выход нейронной сети принимал значения от 0 до 1 в соответствии с вероятностью\n",
    "    # принадлежности входного объекта к одному из 10 классов\n"
   ]
  },
  {
   "cell_type": "code",
   "execution_count": 36,
   "metadata": {
    "executionInfo": {
     "elapsed": 458,
     "status": "ok",
     "timestamp": 1699451584018,
     "user": {
      "displayName": "Denis Philichkin",
      "userId": "00184781210873678328"
     },
     "user_tz": -120
    },
    "id": "LIf3o7VAUSNV"
   },
   "outputs": [],
   "source": [
    "# В качестве функции ошибки в данном случае удобно взять кросс-энтропию\n",
    "def cross_entropy(y_pred, y_true):\n",
    "    # Encode label to a one hot vector.\n",
    "    y_true = tf.one_hot(y_true, depth=num_classes)\n",
    "\n",
    "    # Clip prediction values to avoid log(0) error.\n",
    "    y_pred = tf.clip_by_value(y_pred, 1e-9, 1.)\n",
    "\n",
    "    # Вычисление кросс-энтропии\n",
    "    return tf.reduce_mean(-tf.reduce_sum(y_true * tf.math.log(y_pred)))\n",
    "\n",
    "# В качестве метрики качества используем точность\n",
    "\n",
    "def accuracy(y_pred, y_true):\n",
    "  # Порівнюємо передбачені значення з істинними та підраховуємо кількість правильних відповідей\n",
    "  acc = tf.metrics.Accuracy()\n",
    "\n",
    "  # Перетворюємо булеві значення в числа (0 або 1) та обчислюємо середню точність\n",
    "  acc.update_state(y_true, tf.argmax(y_pred, axis=1))\n",
    "  return acc.result()"
   ]
  },
  {
   "cell_type": "code",
   "execution_count": 37,
   "metadata": {
    "executionInfo": {
     "elapsed": 265,
     "status": "ok",
     "timestamp": 1699451586834,
     "user": {
      "displayName": "Denis Philichkin",
      "userId": "00184781210873678328"
     },
     "user_tz": -120
    },
    "id": "MQeT1yatUSNW"
   },
   "outputs": [],
   "source": [
    "from keras.src.backend import gradients\n",
    "from tensorflow.python.ops.variables import trainable_variables\n",
    "# Создадим экзампляр нейронной сети\n",
    "neural_net = NN(name=\"mnist\")\n",
    "\n",
    "# Функция обучения нейросети\n",
    "def train(nn, input_x, output_y):\n",
    "  # Для подгонки весов сети будем использовать стохастический градиентный спуск\n",
    "  optimizer = tf.optimizers.SGD(learning_rate)\n",
    "\n",
    "  # Активация автоматического дифференцирования\n",
    "  with tf.GradientTape() as g:\n",
    "    pred = neural_net(input_x)\n",
    "    loss = cross_entropy(pred, output_y)\n",
    "\n",
    "    # Создадим оптимизируемых список параметров\n",
    "    trainable_vars = nn.trainable_variables\n",
    "\n",
    "    # Вычислим по ним значение градиента\n",
    "    gradients = g.gradient(loss, trainable_vars)\n",
    "\n",
    "    # Модифицируем параметры\n",
    "    optimizer.apply_gradients(zip(gradients, trainable_vars))"
   ]
  },
  {
   "cell_type": "code",
   "execution_count": 38,
   "metadata": {
    "colab": {
     "base_uri": "https://localhost:8080/"
    },
    "executionInfo": {
     "elapsed": 91643,
     "status": "ok",
     "timestamp": 1699451680350,
     "user": {
      "displayName": "Denis Philichkin",
      "userId": "00184781210873678328"
     },
     "user_tz": -120
    },
    "id": "fnyns9lBfpQZ",
    "outputId": "0605b953-343c-4310-a6d3-d35b34bf04a2"
   },
   "outputs": [
    {
     "name": "stdout",
     "output_type": "stream",
     "text": [
      "Step 0, Loss: 987.2268676757812, Accuracy: 0.125\n",
      "Step 100, Loss: 0.8197593688964844, Accuracy: 0.12890625\n",
      "Step 200, Loss: 1.0130140781402588, Accuracy: 0.1328125\n",
      "Step 300, Loss: 0.2057221531867981, Accuracy: 0.11328125\n",
      "Step 400, Loss: 0.4188081622123718, Accuracy: 0.14453125\n",
      "Step 500, Loss: 0.05701715499162674, Accuracy: 0.11328125\n",
      "Step 600, Loss: 0.5593762397766113, Accuracy: 0.1640625\n",
      "Step 700, Loss: 0.020557530224323273, Accuracy: 0.17578125\n",
      "Step 800, Loss: 0.06289844214916229, Accuracy: 0.10546875\n",
      "Step 900, Loss: 0.036052972078323364, Accuracy: 0.15234375\n",
      "Step 1000, Loss: 0.021511033177375793, Accuracy: 0.15234375\n",
      "Step 1100, Loss: 0.05290808528661728, Accuracy: 0.12890625\n",
      "Step 1200, Loss: 0.025179525837302208, Accuracy: 0.171875\n",
      "Step 1300, Loss: 0.011292852461338043, Accuracy: 0.171875\n",
      "Step 1400, Loss: 0.011299746111035347, Accuracy: 0.1953125\n",
      "Step 1500, Loss: 0.05357782542705536, Accuracy: 0.1796875\n",
      "Step 1600, Loss: 0.009496417827904224, Accuracy: 0.1640625\n",
      "Step 1700, Loss: 0.07504154741764069, Accuracy: 0.15234375\n",
      "Step 1800, Loss: 0.028582602739334106, Accuracy: 0.1640625\n",
      "Step 1900, Loss: 0.018530817702412605, Accuracy: 0.1953125\n",
      "Step 2000, Loss: 0.1726735532283783, Accuracy: 0.14453125\n",
      "Step 2100, Loss: 0.013487255200743675, Accuracy: 0.140625\n",
      "Step 2200, Loss: 0.008380034938454628, Accuracy: 0.19140625\n",
      "Step 2300, Loss: 0.05807808041572571, Accuracy: 0.1875\n",
      "Step 2400, Loss: 0.042033851146698, Accuracy: 0.171875\n",
      "Step 2500, Loss: 0.008437590673565865, Accuracy: 0.20703125\n",
      "Step 2600, Loss: 0.0026728492230176926, Accuracy: 0.171875\n",
      "Step 2700, Loss: 0.013401225209236145, Accuracy: 0.15234375\n",
      "Step 2800, Loss: 0.013980759307742119, Accuracy: 0.14453125\n",
      "Step 2900, Loss: 0.006498930975794792, Accuracy: 0.1796875\n",
      "Training Finished!\n"
     ]
    }
   ],
   "source": [
    "# Тренировка сети\n",
    "\n",
    "loss_history = []  # каждые display_step шагов сохраняйте в этом список текущую ошибку нейросети\n",
    "accuracy_history = [] # каждые display_step шагов сохраняйте в этом список текущую точность нейросети\n",
    "\n",
    "# В этом цикле мы будем производить обучение нейронной сети\n",
    "# из тренировочного датасета train_data извлеките случайное подмножество, на котором\n",
    "# произведется тренировка. Используйте метод take, доступный для тренировочного датасета.\n",
    "for step, (batch_x, batch_y) in enumerate(train_data.take(training_steps)):\n",
    "    # Обновляем веса нейронной сети\n",
    "    train(neural_net, batch_x, batch_y)\n",
    "\n",
    "    if step % display_step == 0:\n",
    "        pred = neural_net(batch_x)\n",
    "        current_loss = cross_entropy(pred, batch_y)\n",
    "        loss_history.append(current_loss)\n",
    "\n",
    "        acc = accuracy(pred, batch_y)\n",
    "        accuracy_history.append(acc)\n",
    "        print(f\"Step {step}, Loss: {current_loss}, Accuracy: {acc}\")\n",
    "\n",
    "print(\"Training Finished!\")"
   ]
  },
  {
   "cell_type": "code",
   "execution_count": 49,
   "metadata": {
    "colab": {
     "base_uri": "https://localhost:8080/",
     "height": 547
    },
    "executionInfo": {
     "elapsed": 941,
     "status": "ok",
     "timestamp": 1699457145147,
     "user": {
      "displayName": "Denis Philichkin",
      "userId": "00184781210873678328"
     },
     "user_tz": -120
    },
    "id": "_yCBfG6MbQB2",
    "outputId": "e2399669-fec8-43f0-a61b-4807400292ff"
   },
   "outputs": [
    {
     "data": {
      "image/png": "[encoded data removed]",
      "text/plain": [
       "<Figure size 1200x600 with 2 Axes>"
      ]
     },
     "metadata": {},
     "output_type": "display_data"
    }
   ],
   "source": [
    "# Выведите графики зависимости изменения точности и потерь от шага\n",
    "# Если все сделано правильно, то точность должна расти, а потери уменьшаться\n",
    "\n",
    "import pandas as pd\n",
    "import matplotlib.pyplot as plt\n",
    "\n",
    "# Створюємо DataFrame з даними\n",
    "data = pd.DataFrame({'Loss': loss_history, 'Accuracy': accuracy_history})\n",
    "\n",
    "# Створюємо фігуру та область підграфіка\n",
    "fig, axs = plt.subplots(figsize=(12, 6))\n",
    "\n",
    "# Графік втрат\n",
    "axs.plot(data['Loss'], label='Loss', color='r', linestyle=\"--\")\n",
    "axs.set_xlabel('Step', fontsize=14)\n",
    "axs.set_ylabel('Loss', fontsize=14)\n",
    "axs.legend()\n",
    "axs.grid(True)\n",
    "\n",
    "# Створюємо ще одну область підграфіка для точності\n",
    "axs2 = axs.twinx()\n",
    "axs2.plot(data['Accuracy'], label='Accuracy', color='b', linestyle=\"--\")\n",
    "axs2.set_ylabel('Accuracy', fontsize=14)\n",
    "axs2.legend()\n",
    "\n",
    "plt.show()\n"
   ]
  },
  {
   "cell_type": "code",
   "execution_count": 50,
   "metadata": {
    "colab": {
     "base_uri": "https://localhost:8080/"
    },
    "executionInfo": {
     "elapsed": 777,
     "status": "ok",
     "timestamp": 1699457166475,
     "user": {
      "displayName": "Denis Philichkin",
      "userId": "00184781210873678328"
     },
     "user_tz": -120
    },
    "id": "LE3g4gDyUSNY",
    "outputId": "cc73cd4d-55ce-401b-c105-ef1e2857fc9e"
   },
   "outputs": [
    {
     "name": "stdout",
     "output_type": "stream",
     "text": [
      "Accuracy on test data: 0.16\n"
     ]
    }
   ],
   "source": [
    "# Вычислите точность обученной нейросети\n",
    "\n",
    "from sklearn.metrics import accuracy_score\n",
    "\n",
    "# Передбачення на тестових даних\n",
    "y_pred = neural_net(x_test)\n",
    "\n",
    "# Отримання індексу класу з найвищою вірогідністю для кожного прикладу\n",
    "y_pred = tf.argmax(y_pred, axis=1).numpy()\n",
    "\n",
    "# Обчислення точності\n",
    "accuracy = accuracy_score(y_test, y_pred)\n",
    "print(f'Accuracy on test data: {accuracy:.2f}')"
   ]
  },
  {
   "cell_type": "code",
   "execution_count": 51,
   "metadata": {
    "colab": {
     "base_uri": "https://localhost:8080/",
     "height": 175
    },
    "executionInfo": {
     "elapsed": 625,
     "status": "ok",
     "timestamp": 1699457169625,
     "user": {
      "displayName": "Denis Philichkin",
      "userId": "00184781210873678328"
     },
     "user_tz": -120
    },
    "id": "_EEHAubOUSNY",
    "outputId": "316c89af-21e3-4890-e9d4-b5f5fe5d9500"
   },
   "outputs": [
    {
     "data": {
      "image/png": "[encoded data removed]",
      "text/plain": [
       "<Figure size 640x480 with 5 Axes>"
      ]
     },
     "metadata": {},
     "output_type": "display_data"
    },
    {
     "name": "stdout",
     "output_type": "stream",
     "text": [
      "Accuracy on sample images: 0.20\n"
     ]
    }
   ],
   "source": [
    "# Протестируем обученную нейросеть на 10 изображениях. Из тестовой выборки возьмите 5\n",
    "# случайных изображений и передайте их в нейронню сеть.\n",
    "# Выведите изображение и выпишите рядом ответ нейросети.\n",
    "# Сделайте вывод о том ошибается ли ваша нейронная сеть и если да, то как часто?\n",
    "import random\n",
    "\n",
    "# Виберемо 5 випадкових зображень з тестового набору\n",
    "num_images = 5\n",
    "random_indices = random.sample(range(len(x_test)), num_images)\n",
    "sample_images = x_test[random_indices]\n",
    "sample_labels = y_test[random_indices]\n",
    "\n",
    "# Передаємо зображення в нейронну мережу та отримуємо прогнози\n",
    "predictions = neural_net(sample_images)\n",
    "predicted_labels = tf.argmax(predictions, axis=1).numpy()\n",
    "\n",
    "# Відображаємо кожне тестове зображення та прогноз нейронної мережі\n",
    "for i in range(num_images):\n",
    "    plt.subplot(1, num_images, i + 1)\n",
    "    plt.imshow(sample_images[i].reshape(28, 28), cmap='gray')\n",
    "    plt.title(f\"Predicted: {predicted_labels[i]}\\nActual: {sample_labels[i]}\", fontsize=10)\n",
    "    plt.axis('off')\n",
    "\n",
    "plt.show()\n",
    "\n",
    "# Обчислюємо точність класифікації\n",
    "accuracy = accuracy_score(sample_labels, predicted_labels)\n",
    "print(f'Accuracy on sample images: {accuracy:.2f}')"
   ]
  }
 ],
 "metadata": {
  "colab": {
   "provenance": []
  },
  "kernelspec": {
   "display_name": "Python 3 (ipykernel)",
   "language": "python",
   "name": "python3"
  },
  "language_info": {
   "codemirror_mode": {
    "name": "ipython",
    "version": 3
   },
   "file_extension": ".py",
   "mimetype": "text/x-python",
   "name": "python",
   "nbconvert_exporter": "python",
   "pygments_lexer": "ipython3",
   "version": "3.11.3"
  }
 },
 "nbformat": 4,
 "nbformat_minor": 4
}
